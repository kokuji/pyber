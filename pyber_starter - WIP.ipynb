{
 "cells": [
  {
   "cell_type": "code",
   "execution_count": 3,
   "metadata": {
    "scrolled": true
   },
   "outputs": [
    {
     "data": {
      "text/html": [
       "<div>\n",
       "<style scoped>\n",
       "    .dataframe tbody tr th:only-of-type {\n",
       "        vertical-align: middle;\n",
       "    }\n",
       "\n",
       "    .dataframe tbody tr th {\n",
       "        vertical-align: top;\n",
       "    }\n",
       "\n",
       "    .dataframe thead th {\n",
       "        text-align: right;\n",
       "    }\n",
       "</style>\n",
       "<table border=\"1\" class=\"dataframe\">\n",
       "  <thead>\n",
       "    <tr style=\"text-align: right;\">\n",
       "      <th></th>\n",
       "      <th>city</th>\n",
       "      <th>date</th>\n",
       "      <th>fare</th>\n",
       "      <th>ride_id</th>\n",
       "      <th>driver_count</th>\n",
       "      <th>type</th>\n",
       "    </tr>\n",
       "  </thead>\n",
       "  <tbody>\n",
       "    <tr>\n",
       "      <th>0</th>\n",
       "      <td>Lake Jonathanshire</td>\n",
       "      <td>2018-01-14 10:14:22</td>\n",
       "      <td>13.83</td>\n",
       "      <td>5739410935873</td>\n",
       "      <td>5</td>\n",
       "      <td>Urban</td>\n",
       "    </tr>\n",
       "    <tr>\n",
       "      <th>1</th>\n",
       "      <td>South Michelleport</td>\n",
       "      <td>2018-03-04 18:24:09</td>\n",
       "      <td>30.24</td>\n",
       "      <td>2343912425577</td>\n",
       "      <td>72</td>\n",
       "      <td>Urban</td>\n",
       "    </tr>\n",
       "    <tr>\n",
       "      <th>2</th>\n",
       "      <td>Port Samanthamouth</td>\n",
       "      <td>2018-02-24 04:29:00</td>\n",
       "      <td>33.44</td>\n",
       "      <td>2005065760003</td>\n",
       "      <td>57</td>\n",
       "      <td>Urban</td>\n",
       "    </tr>\n",
       "    <tr>\n",
       "      <th>3</th>\n",
       "      <td>Rodneyfort</td>\n",
       "      <td>2018-02-10 23:22:03</td>\n",
       "      <td>23.44</td>\n",
       "      <td>5149245426178</td>\n",
       "      <td>34</td>\n",
       "      <td>Urban</td>\n",
       "    </tr>\n",
       "    <tr>\n",
       "      <th>4</th>\n",
       "      <td>South Jack</td>\n",
       "      <td>2018-03-06 04:28:35</td>\n",
       "      <td>34.58</td>\n",
       "      <td>3908451377344</td>\n",
       "      <td>46</td>\n",
       "      <td>Urban</td>\n",
       "    </tr>\n",
       "  </tbody>\n",
       "</table>\n",
       "</div>"
      ],
      "text/plain": [
       "                 city                 date   fare        ride_id  \\\n",
       "0  Lake Jonathanshire  2018-01-14 10:14:22  13.83  5739410935873   \n",
       "1  South Michelleport  2018-03-04 18:24:09  30.24  2343912425577   \n",
       "2  Port Samanthamouth  2018-02-24 04:29:00  33.44  2005065760003   \n",
       "3          Rodneyfort  2018-02-10 23:22:03  23.44  5149245426178   \n",
       "4          South Jack  2018-03-06 04:28:35  34.58  3908451377344   \n",
       "\n",
       "   driver_count   type  \n",
       "0             5  Urban  \n",
       "1            72  Urban  \n",
       "2            57  Urban  \n",
       "3            34  Urban  \n",
       "4            46  Urban  "
      ]
     },
     "execution_count": 3,
     "metadata": {},
     "output_type": "execute_result"
    }
   ],
   "source": [
    "%matplotlib inline\n",
    "# Dependencies and Setup\n",
    "import matplotlib.pyplot as plt\n",
    "import pandas as pd\n",
    "import numpy as np\n",
    "\n",
    "# File to Load (Remember to change these)\n",
    "city_data_to_load = \"data/city_data.csv\"\n",
    "ride_data_to_load = \"data/ride_data.csv\"\n",
    "\n",
    "# Read the City and Ride Data\n",
    "city_data_df = pd.read_csv(city_data_to_load)\n",
    "ride_data_df = pd.read_csv(ride_data_to_load)\n",
    "# city_data_df.head()\n",
    "# ride_data_df\n",
    "\n",
    "# Combine the data into a single dataset\n",
    "pyber_merge_df = pd.merge(ride_data_df, city_data_df, how = \"left\", on = \"city\")\n",
    "\n",
    "# Display the data table for preview\n",
    "pyber_merge_df.head()"
   ]
  },
  {
   "cell_type": "markdown",
   "metadata": {},
   "source": [
    "## Bubble Plot of Ride Sharing Data"
   ]
  },
  {
   "cell_type": "code",
   "execution_count": 4,
   "metadata": {},
   "outputs": [],
   "source": [
    "# Obtain the x and y coordinates for each of the three city types\n",
    "# City Type (Urban, Suburban, Rural)\n",
    "citytype_group = pyber_merge_df.groupby([\"type\", \"city\"])\n",
    "# citytype_group.head()"
   ]
  },
  {
   "cell_type": "code",
   "execution_count": 5,
   "metadata": {},
   "outputs": [],
   "source": [
    "urban_df = pyber_merge_df[pyber_merge_df[\"type\"] == \"Urban\"]\n",
    "suburban_df = pyber_merge_df[pyber_merge_df[\"type\"] == \"Suburban\"]\n",
    "rural_df = pyber_merge_df[pyber_merge_df[\"type\"] == \"Rural\"]"
   ]
  },
  {
   "cell_type": "code",
   "execution_count": 6,
   "metadata": {},
   "outputs": [],
   "source": [
    "# Total Number of Rides Per City\n",
    "urban_rides = urban_df.groupby([\"city\"]).count()[\"ride_id\"]\n",
    "# urban_rides\n",
    "suburban_rides = suburban_df.groupby([\"city\"]).count()[\"ride_id\"]\n",
    "rural_rides = rural_df.groupby([\"city\"]).count()[\"ride_id\"]"
   ]
  },
  {
   "cell_type": "code",
   "execution_count": 7,
   "metadata": {},
   "outputs": [],
   "source": [
    "# Average Fare ($) Per City\n",
    "urban_avgfare = urban_df.groupby([\"city\"]).mean()[\"fare\"]\n",
    "suburban_avgfare = suburban_df.groupby([\"city\"]).mean()[\"fare\"]\n",
    "rural_avgfare = rural_df.groupby([\"city\"]).mean()[\"fare\"]"
   ]
  },
  {
   "cell_type": "code",
   "execution_count": 17,
   "metadata": {},
   "outputs": [],
   "source": [
    "#Total Number of Drivers Per City\n",
    "urban_driverspercity = urban_df.groupby([\"city\"]).sum()[\"driver_count\"]\n",
    "#urban_driverspercity\n",
    "suburban_driverspercity = suburban_df.groupby([\"city\"]).sum()[\"driver_count\"]\n",
    "rural_driverspercity = rural_df.groupby([\"city\"]).sum()[\"driver_count\"]"
   ]
  },
  {
   "cell_type": "code",
   "execution_count": 18,
   "metadata": {},
   "outputs": [
    {
     "data": {
      "text/plain": [
       "Text(0, 0.5, 'Average fare ($)')"
      ]
     },
     "execution_count": 18,
     "metadata": {},
     "output_type": "execute_result"
    },
    {
     "data": {
      "image/png": "[encoded data removed]",
      "text/plain": [
       "<Figure size 432x288 with 1 Axes>"
      ]
     },
     "metadata": {
      "needs_background": "light"
     },
     "output_type": "display_data"
    }
   ],
   "source": [
    "plt.scatter(urban_rides, urban_avgfare, marker=\"o\", c=\"red\", edgecolors=\"black\", alpha=1.0)\n",
    "#Create scatter plot for suburban rides and avg fares\n",
    "plt.scatter(suburban_rides, suburban_avgfare, marker=\"o\", c=\"yellow\", edgecolors=\"black\", alpha=0.75)\n",
    "#Create scatter plot for rural rides and avg fares\n",
    "plt.scatter(rural_rides, rural_avgfare, marker=\"o\", c=\"blue\", edgecolors=\"black\", alpha=0.5)\n",
    "plt.title(\"Pyber Ride Sharing Data (2016)\")\n",
    "plt.xlabel(\"Total Number of Rides (Per city)\")\n",
    "plt.ylabel(\"Average fare ($)\")\n",
    "# plt.legend(handles=[urban_driverspercity, suburban_driverspercity, rural_driverspercity], loc=\"best\")"
   ]
  },
  {
   "cell_type": "code",
   "execution_count": 15,
   "metadata": {},
   "outputs": [],
   "source": [
    "\n",
    "# Build the scatter plots for each city types\n",
    "\n",
    "# Incorporate the other graph properties\n",
    "\n",
    "# Create a legend\n",
    "\n",
    "# Incorporate a text label regarding circle size\n",
    "\n",
    "# Save Figure\n"
   ]
  },
  {
   "cell_type": "code",
   "execution_count": 16,
   "metadata": {},
   "outputs": [],
   "source": [
    "# Show plot\n",
    "plt.show()"
   ]
  },
  {
   "cell_type": "markdown",
   "metadata": {},
   "source": [
    "## Total Fares by City Type"
   ]
  },
  {
   "cell_type": "code",
   "execution_count": 52,
   "metadata": {},
   "outputs": [
    {
     "data": {
      "image/png": "[encoded data removed]",
      "text/plain": [
       "<Figure size 432x288 with 1 Axes>"
      ]
     },
     "metadata": {},
     "output_type": "display_data"
    },
    {
     "data": {
      "text/plain": [
       "<Figure size 432x288 with 0 Axes>"
      ]
     },
     "metadata": {},
     "output_type": "display_data"
    }
   ],
   "source": [
    "# Calculate Type Percents\n",
    "urban_total_fare = urban_df.sum()[\"fare\"]\n",
    "suburban_total_fare = suburban_df.sum()[\"fare\"]\n",
    "rural_total_fare = rural_df.sum()[\"fare\"]\n",
    "# print(total_fare)\n",
    "# print(urban_total_fare)\n",
    "# print(suburban_total_fare)\n",
    "\n",
    "# Define variables for the chart\n",
    "types = [\"Urban\", \"Suburban\", \"Rural\"]\n",
    "fare_type = [urban_total_fare, suburban_total_fare, rural_total_fare] \n",
    "# print(fare_type)\n",
    "colors = [\"lightcoral\", \"lightskyblue\", \"yellow\"]\n",
    "explode = (0.05, 0, 0)\n",
    "\n",
    "# Build Pie Chart\n",
    "plt.title(\"% of Total Fares by City Type\")\n",
    "plt.pie(fare_type, explode=explode, labels=types, colors=colors,\n",
    "        autopct=\"%1.1f%%\", shadow=True, startangle=120)\n",
    "plt.axis(\"equal\")\n",
    "\n",
    "# Save Figure\n",
    "plt.show()\n",
    "plt.savefig(\"TotalFareByCity.png\")"
   ]
  },
  {
   "cell_type": "code",
   "execution_count": 53,
   "metadata": {},
   "outputs": [],
   "source": [
    "# Show Figure\n",
    "plt.show()"
   ]
  },
  {
   "cell_type": "markdown",
   "metadata": {},
   "source": [
    "## Total Rides by City Type"
   ]
  },
  {
   "cell_type": "code",
   "execution_count": 54,
   "metadata": {},
   "outputs": [
    {
     "data": {
      "image/png": "[encoded data removed]",
      "text/plain": [
       "<Figure size 432x288 with 1 Axes>"
      ]
     },
     "metadata": {},
     "output_type": "display_data"
    },
    {
     "data": {
      "text/plain": [
       "<Figure size 432x288 with 0 Axes>"
      ]
     },
     "metadata": {},
     "output_type": "display_data"
    }
   ],
   "source": [
    "# Calculate Ride Percents\n",
    "urban_total_rides = urban_df.count()[\"ride_id\"]\n",
    "suburban_total_rides = suburban_df.count()[\"ride_id\"]\n",
    "rural_total_rides = rural_df.count()[\"ride_id\"]\n",
    "\n",
    "#Define the variables for the chart\n",
    "types = [\"Urban\", \"Suburban\", \"Rural\"]\n",
    "rides_type = [urban_total_rides, suburban_total_rides, rural_total_rides] \n",
    "colors = [\"lightcoral\", \"lightskyblue\", \"yellow\"]\n",
    "explode = (0.05, 0, 0)\n",
    "\n",
    "# Build Pie Chart\n",
    "plt.title(\"% of Total Rides by City Type\")\n",
    "plt.pie(rides_type, explode=explode, labels=types, colors=colors,\n",
    "        autopct=\"%1.1f%%\", shadow=True, startangle=120)\n",
    "plt.axis(\"equal\")\n",
    "\n",
    "# Save Figure\n",
    "plt.show()\n",
    "plt.savefig(\"TotalRidesByCity.png\")"
   ]
  },
  {
   "cell_type": "code",
   "execution_count": 49,
   "metadata": {
    "scrolled": true
   },
   "outputs": [],
   "source": [
    "# Show Figure\n",
    "plt.show()"
   ]
  },
  {
   "cell_type": "markdown",
   "metadata": {},
   "source": [
    "## Total Drivers by City Type"
   ]
  },
  {
   "cell_type": "code",
   "execution_count": 55,
   "metadata": {},
   "outputs": [
    {
     "data": {
      "image/png": "[encoded data removed]",
      "text/plain": [
       "<Figure size 432x288 with 1 Axes>"
      ]
     },
     "metadata": {},
     "output_type": "display_data"
    },
    {
     "data": {
      "text/plain": [
       "<Figure size 432x288 with 0 Axes>"
      ]
     },
     "metadata": {},
     "output_type": "display_data"
    }
   ],
   "source": [
    "# Calculate Driver Percents\n",
    "urban_total_drivers = urban_df.sum()[\"driver_count\"]\n",
    "suburban_total_drivers = suburban_df.sum()[\"driver_count\"]\n",
    "rural_total_drivers = rural_df.sum()[\"driver_count\"]\n",
    "# total_drivers = pyber_merge_df.sum()[\"driver_count\"]\n",
    "# print(urban_total_drivers)\n",
    "# print(suburban_total_drivers)\n",
    "# print(rural_total_drivers)\n",
    "# print(total_drivers)\n",
    "\n",
    "\n",
    "#Define the variables for the chart\n",
    "types = [\"Urban\", \"Suburban\", \"Rural\"]\n",
    "drivers_type = [urban_total_drivers, suburban_total_drivers, rural_total_drivers] \n",
    "colors = [\"lightcoral\", \"lightskyblue\", \"yellow\"]\n",
    "explode = (0.05, 0, 0)\n",
    "\n",
    "# Build Pie Charts\n",
    "plt.title(\"% of Total Drivers by City Type\")\n",
    "plt.pie(drivers_type, explode=explode, labels=types, colors=colors,\n",
    "        autopct=\"%1.1f%%\", shadow=True, startangle=120)\n",
    "plt.axis(\"equal\")\n",
    "\n",
    "# Save Figure\n",
    "plt.show()\n",
    "plt.savefig(\"TotalDriversByCity.png\")"
   ]
  },
  {
   "cell_type": "code",
   "execution_count": 56,
   "metadata": {
    "scrolled": true
   },
   "outputs": [],
   "source": [
    "# Show Figure\n",
    "plt.show()"
   ]
  },
  {
   "cell_type": "code",
   "execution_count": null,
   "metadata": {},
   "outputs": [],
   "source": []
  }
 ],
 "metadata": {
  "anaconda-cloud": {},
  "kernelspec": {
   "display_name": "Python 3",
   "language": "python",
   "name": "python3"
  },
  "language_info": {
   "codemirror_mode": {
    "name": "ipython",
    "version": 3
   },
   "file_extension": ".py",
   "mimetype": "text/x-python",
   "name": "python",
   "nbconvert_exporter": "python",
   "pygments_lexer": "ipython3",
   "version": "3.7.1"
  }
 },
 "nbformat": 4,
 "nbformat_minor": 2
}
